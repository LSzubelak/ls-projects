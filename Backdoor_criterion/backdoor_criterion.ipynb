{
 "cells": [
  {
   "cell_type": "code",
   "execution_count": null,
   "id": "d4eab38d",
   "metadata": {},
   "outputs": [],
   "source": [
    "import numpy as np\n",
    "import pandas as pd\n",
    "import statsmodels.formula.api as smf\n",
    "from graphviz import Digraph\n"
   ]
  },
  {
   "cell_type": "code",
   "execution_count": 4,
   "id": "1f0dd4e4",
   "metadata": {},
   "outputs": [],
   "source": [
    "np.random.seed(1)\n",
    "n = 1000"
   ]
  },
  {
   "cell_type": "code",
   "execution_count": 11,
   "id": "4474b014",
   "metadata": {},
   "outputs": [],
   "source": [
    "def draw_dag(edges, title):\n",
    "    dot = Digraph(comment=title)\n",
    "    for parent, child in edges:\n",
    "        dot.edge(parent, child)\n",
    "    display(dot)"
   ]
  },
  {
   "cell_type": "markdown",
   "id": "3d71c3c0",
   "metadata": {},
   "source": [
    "First example - one confounder"
   ]
  },
  {
   "cell_type": "code",
   "execution_count": 12,
   "id": "c75ee133",
   "metadata": {},
   "outputs": [
    {
     "ename": "NameError",
     "evalue": "name 'Digraph' is not defined",
     "output_type": "error",
     "traceback": [
      "\u001b[1;31m---------------------------------------------------------------------------\u001b[0m",
      "\u001b[1;31mNameError\u001b[0m                                 Traceback (most recent call last)",
      "Cell \u001b[1;32mIn[12], line 1\u001b[0m\n\u001b[1;32m----> 1\u001b[0m \u001b[43mdraw_dag\u001b[49m\u001b[43m(\u001b[49m\n\u001b[0;32m      2\u001b[0m \u001b[43m    \u001b[49m\u001b[43medges\u001b[49m\u001b[38;5;241;43m=\u001b[39;49m\u001b[43m[\u001b[49m\n\u001b[0;32m      3\u001b[0m \u001b[43m        \u001b[49m\u001b[43m(\u001b[49m\u001b[38;5;124;43m'\u001b[39;49m\u001b[38;5;124;43mMotivation\u001b[39;49m\u001b[38;5;124;43m'\u001b[39;49m\u001b[43m,\u001b[49m\u001b[43m \u001b[49m\u001b[38;5;124;43m'\u001b[39;49m\u001b[38;5;124;43mTrainingHours\u001b[39;49m\u001b[38;5;124;43m'\u001b[39;49m\u001b[43m)\u001b[49m\u001b[43m,\u001b[49m\n\u001b[0;32m      4\u001b[0m \u001b[43m        \u001b[49m\u001b[43m(\u001b[49m\u001b[38;5;124;43m'\u001b[39;49m\u001b[38;5;124;43mMotivation\u001b[39;49m\u001b[38;5;124;43m'\u001b[39;49m\u001b[43m,\u001b[49m\u001b[43m \u001b[49m\u001b[38;5;124;43m'\u001b[39;49m\u001b[38;5;124;43mProductivity\u001b[39;49m\u001b[38;5;124;43m'\u001b[39;49m\u001b[43m)\u001b[49m\n\u001b[0;32m      5\u001b[0m \u001b[43m    \u001b[49m\u001b[43m]\u001b[49m\u001b[43m,\u001b[49m\n\u001b[0;32m      6\u001b[0m \u001b[43m    \u001b[49m\u001b[43mtitle\u001b[49m\u001b[38;5;241;43m=\u001b[39;49m\u001b[38;5;124;43m'\u001b[39;49m\u001b[38;5;124;43mProductivity <- Motivation -> TrainingHours\u001b[39;49m\u001b[38;5;124;43m'\u001b[39;49m\n\u001b[0;32m      7\u001b[0m \u001b[43m)\u001b[49m\n",
      "Cell \u001b[1;32mIn[11], line 2\u001b[0m, in \u001b[0;36mdraw_dag\u001b[1;34m(edges, title)\u001b[0m\n\u001b[0;32m      1\u001b[0m \u001b[38;5;28;01mdef\u001b[39;00m\u001b[38;5;250m \u001b[39m\u001b[38;5;21mdraw_dag\u001b[39m(edges, title):\n\u001b[1;32m----> 2\u001b[0m     dot \u001b[38;5;241m=\u001b[39m \u001b[43mDigraph\u001b[49m(comment\u001b[38;5;241m=\u001b[39mtitle)\n\u001b[0;32m      3\u001b[0m     \u001b[38;5;28;01mfor\u001b[39;00m parent, child \u001b[38;5;129;01min\u001b[39;00m edges:\n\u001b[0;32m      4\u001b[0m         dot\u001b[38;5;241m.\u001b[39medge(parent, child)\n",
      "\u001b[1;31mNameError\u001b[0m: name 'Digraph' is not defined"
     ]
    }
   ],
   "source": [
    "draw_dag(\n",
    "    edges=[\n",
    "        ('Motivation', 'TrainingHours'),\n",
    "        ('Motivation', 'Productivity')\n",
    "    ],\n",
    "    title='Productivity <- Motivation -> TrainingHours'\n",
    ")"
   ]
  },
  {
   "cell_type": "code",
   "execution_count": 8,
   "id": "13013c1a",
   "metadata": {},
   "outputs": [],
   "source": [
    "motivation = np.random.normal(0, 1, n)\n",
    "training_hours = 0.7 * motivation + np.random.normal(0, 1, n)\n",
    "productivity = 2.0 * training_hours + 1.5 * motivation + np.random.normal(0, 1, n)\n",
    "\n",
    "data1 = pd.DataFrame({\n",
    "    'motivation': motivation,\n",
    "    'training_hours': training_hours,\n",
    "    'productivity': productivity\n",
    "})"
   ]
  },
  {
   "cell_type": "code",
   "execution_count": 10,
   "id": "86d8f2c4",
   "metadata": {},
   "outputs": [
    {
     "name": "stdout",
     "output_type": "stream",
     "text": [
      "                            OLS Regression Results                            \n",
      "==============================================================================\n",
      "Dep. Variable:           productivity   R-squared:                       0.927\n",
      "Model:                            OLS   Adj. R-squared:                  0.927\n",
      "Method:                 Least Squares   F-statistic:                     6329.\n",
      "Date:                Sat, 21 Jun 2025   Prob (F-statistic):               0.00\n",
      "Time:                        17:44:51   Log-Likelihood:                -1410.3\n",
      "No. Observations:                1000   AIC:                             2827.\n",
      "Df Residuals:                     997   BIC:                             2841.\n",
      "Df Model:                           2                                         \n",
      "Covariance Type:            nonrobust                                         \n",
      "==================================================================================\n",
      "                     coef    std err          t      P>|t|      [0.025      0.975]\n",
      "----------------------------------------------------------------------------------\n",
      "Intercept         -0.0510      0.031     -1.621      0.105      -0.113       0.011\n",
      "motivation         1.4989      0.037     39.990      0.000       1.425       1.572\n",
      "training_hours     2.0077      0.031     65.045      0.000       1.947       2.068\n",
      "==============================================================================\n",
      "Omnibus:                        1.020   Durbin-Watson:                   2.068\n",
      "Prob(Omnibus):                  0.600   Jarque-Bera (JB):                0.908\n",
      "Skew:                           0.065   Prob(JB):                        0.635\n",
      "Kurtosis:                       3.069   Cond. No.                         1.95\n",
      "==============================================================================\n",
      "\n",
      "Notes:\n",
      "[1] Standard Errors assume that the covariance matrix of the errors is correctly specified.\n"
     ]
    }
   ],
   "source": [
    "model1 = smf.ols('productivity ~ motivation + training_hours', data=data1).fit()\n",
    "print(model1.summary())"
   ]
  },
  {
   "cell_type": "markdown",
   "id": "6c9623c9",
   "metadata": {},
   "source": [
    "Second example - two variable"
   ]
  },
  {
   "cell_type": "markdown",
   "id": "6b23a032",
   "metadata": {},
   "source": []
  },
  {
   "cell_type": "markdown",
   "id": "9021877b",
   "metadata": {},
   "source": [
    "Third example - collider"
   ]
  },
  {
   "cell_type": "markdown",
   "id": "92cf9787",
   "metadata": {},
   "source": []
  },
  {
   "cell_type": "markdown",
   "id": "2d71f9c6",
   "metadata": {},
   "source": [
    "Fourth example - mediator"
   ]
  },
  {
   "cell_type": "markdown",
   "id": "933a7f5a",
   "metadata": {},
   "source": []
  }
 ],
 "metadata": {
  "kernelspec": {
   "display_name": "backdoor-crit",
   "language": "python",
   "name": "python3"
  },
  "language_info": {
   "codemirror_mode": {
    "name": "ipython",
    "version": 3
   },
   "file_extension": ".py",
   "mimetype": "text/x-python",
   "name": "python",
   "nbconvert_exporter": "python",
   "pygments_lexer": "ipython3",
   "version": "3.10.18"
  }
 },
 "nbformat": 4,
 "nbformat_minor": 5
}
