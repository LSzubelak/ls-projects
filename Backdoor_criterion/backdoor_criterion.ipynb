{
 "cells": [
  {
   "cell_type": "code",
   "execution_count": 1,
   "id": "d4eab38d",
   "metadata": {},
   "outputs": [],
   "source": [
    "import numpy as np\n",
    "import pandas as pd\n",
    "import statsmodels.formula.api as smf\n",
    "from graphviz import Digraph\n",
    "import networkx as nx\n"
   ]
  },
  {
   "cell_type": "code",
   "execution_count": 2,
   "id": "1f0dd4e4",
   "metadata": {},
   "outputs": [],
   "source": [
    "np.random.seed(1)\n",
    "n = 1000"
   ]
  },
  {
   "cell_type": "code",
   "execution_count": 11,
   "id": "4474b014",
   "metadata": {},
   "outputs": [],
   "source": [
    "def draw_dag(edges, title):\n",
    "    dot = Digraph(comment=title)\n",
    "    for parent, child in edges:\n",
    "        dot.edge(parent, child)\n",
    "    display(dot)"
   ]
  },
  {
   "cell_type": "markdown",
   "id": "3d71c3c0",
   "metadata": {},
   "source": [
    "First example - one confounder"
   ]
  },
  {
   "cell_type": "code",
   "execution_count": 8,
   "id": "c75ee133",
   "metadata": {},
   "outputs": [
    {
     "ename": "ExecutableNotFound",
     "evalue": "failed to execute WindowsPath('dot'), make sure the Graphviz executables are on your systems' PATH",
     "output_type": "error",
     "traceback": [
      "\u001b[1;31m---------------------------------------------------------------------------\u001b[0m",
      "\u001b[1;31mFileNotFoundError\u001b[0m                         Traceback (most recent call last)",
      "File \u001b[1;32mc:\\Users\\lukas\\miniconda3\\envs\\backdoor-crit\\lib\\site-packages\\graphviz\\backend\\execute.py:76\u001b[0m, in \u001b[0;36mrun_check\u001b[1;34m(cmd, input_lines, encoding, quiet, **kwargs)\u001b[0m\n\u001b[0;32m     75\u001b[0m         kwargs[\u001b[38;5;124m'\u001b[39m\u001b[38;5;124mstdout\u001b[39m\u001b[38;5;124m'\u001b[39m] \u001b[38;5;241m=\u001b[39m kwargs[\u001b[38;5;124m'\u001b[39m\u001b[38;5;124mstderr\u001b[39m\u001b[38;5;124m'\u001b[39m] \u001b[38;5;241m=\u001b[39m subprocess\u001b[38;5;241m.\u001b[39mPIPE\n\u001b[1;32m---> 76\u001b[0m     proc \u001b[38;5;241m=\u001b[39m \u001b[43m_run_input_lines\u001b[49m\u001b[43m(\u001b[49m\u001b[43mcmd\u001b[49m\u001b[43m,\u001b[49m\u001b[43m \u001b[49m\u001b[43minput_lines\u001b[49m\u001b[43m,\u001b[49m\u001b[43m \u001b[49m\u001b[43mkwargs\u001b[49m\u001b[38;5;241;43m=\u001b[39;49m\u001b[43mkwargs\u001b[49m\u001b[43m)\u001b[49m\n\u001b[0;32m     77\u001b[0m \u001b[38;5;28;01melse\u001b[39;00m:\n",
      "File \u001b[1;32mc:\\Users\\lukas\\miniconda3\\envs\\backdoor-crit\\lib\\site-packages\\graphviz\\backend\\execute.py:96\u001b[0m, in \u001b[0;36m_run_input_lines\u001b[1;34m(cmd, input_lines, kwargs)\u001b[0m\n\u001b[0;32m     95\u001b[0m \u001b[38;5;28;01mdef\u001b[39;00m\u001b[38;5;250m \u001b[39m\u001b[38;5;21m_run_input_lines\u001b[39m(cmd, input_lines, \u001b[38;5;241m*\u001b[39m, kwargs):\n\u001b[1;32m---> 96\u001b[0m     popen \u001b[38;5;241m=\u001b[39m subprocess\u001b[38;5;241m.\u001b[39mPopen(cmd, stdin\u001b[38;5;241m=\u001b[39msubprocess\u001b[38;5;241m.\u001b[39mPIPE, \u001b[38;5;241m*\u001b[39m\u001b[38;5;241m*\u001b[39mkwargs)\n\u001b[0;32m     98\u001b[0m     stdin_write \u001b[38;5;241m=\u001b[39m popen\u001b[38;5;241m.\u001b[39mstdin\u001b[38;5;241m.\u001b[39mwrite\n",
      "File \u001b[1;32mc:\\Users\\lukas\\miniconda3\\envs\\backdoor-crit\\lib\\subprocess.py:971\u001b[0m, in \u001b[0;36mPopen.__init__\u001b[1;34m(self, args, bufsize, executable, stdin, stdout, stderr, preexec_fn, close_fds, shell, cwd, env, universal_newlines, startupinfo, creationflags, restore_signals, start_new_session, pass_fds, user, group, extra_groups, encoding, errors, text, umask, pipesize)\u001b[0m\n\u001b[0;32m    968\u001b[0m             \u001b[38;5;28mself\u001b[39m\u001b[38;5;241m.\u001b[39mstderr \u001b[38;5;241m=\u001b[39m io\u001b[38;5;241m.\u001b[39mTextIOWrapper(\u001b[38;5;28mself\u001b[39m\u001b[38;5;241m.\u001b[39mstderr,\n\u001b[0;32m    969\u001b[0m                     encoding\u001b[38;5;241m=\u001b[39mencoding, errors\u001b[38;5;241m=\u001b[39merrors)\n\u001b[1;32m--> 971\u001b[0m     \u001b[38;5;28;43mself\u001b[39;49m\u001b[38;5;241;43m.\u001b[39;49m\u001b[43m_execute_child\u001b[49m\u001b[43m(\u001b[49m\u001b[43margs\u001b[49m\u001b[43m,\u001b[49m\u001b[43m \u001b[49m\u001b[43mexecutable\u001b[49m\u001b[43m,\u001b[49m\u001b[43m \u001b[49m\u001b[43mpreexec_fn\u001b[49m\u001b[43m,\u001b[49m\u001b[43m \u001b[49m\u001b[43mclose_fds\u001b[49m\u001b[43m,\u001b[49m\n\u001b[0;32m    972\u001b[0m \u001b[43m                        \u001b[49m\u001b[43mpass_fds\u001b[49m\u001b[43m,\u001b[49m\u001b[43m \u001b[49m\u001b[43mcwd\u001b[49m\u001b[43m,\u001b[49m\u001b[43m \u001b[49m\u001b[43menv\u001b[49m\u001b[43m,\u001b[49m\n\u001b[0;32m    973\u001b[0m \u001b[43m                        \u001b[49m\u001b[43mstartupinfo\u001b[49m\u001b[43m,\u001b[49m\u001b[43m \u001b[49m\u001b[43mcreationflags\u001b[49m\u001b[43m,\u001b[49m\u001b[43m \u001b[49m\u001b[43mshell\u001b[49m\u001b[43m,\u001b[49m\n\u001b[0;32m    974\u001b[0m \u001b[43m                        \u001b[49m\u001b[43mp2cread\u001b[49m\u001b[43m,\u001b[49m\u001b[43m \u001b[49m\u001b[43mp2cwrite\u001b[49m\u001b[43m,\u001b[49m\n\u001b[0;32m    975\u001b[0m \u001b[43m                        \u001b[49m\u001b[43mc2pread\u001b[49m\u001b[43m,\u001b[49m\u001b[43m \u001b[49m\u001b[43mc2pwrite\u001b[49m\u001b[43m,\u001b[49m\n\u001b[0;32m    976\u001b[0m \u001b[43m                        \u001b[49m\u001b[43merrread\u001b[49m\u001b[43m,\u001b[49m\u001b[43m \u001b[49m\u001b[43merrwrite\u001b[49m\u001b[43m,\u001b[49m\n\u001b[0;32m    977\u001b[0m \u001b[43m                        \u001b[49m\u001b[43mrestore_signals\u001b[49m\u001b[43m,\u001b[49m\n\u001b[0;32m    978\u001b[0m \u001b[43m                        \u001b[49m\u001b[43mgid\u001b[49m\u001b[43m,\u001b[49m\u001b[43m \u001b[49m\u001b[43mgids\u001b[49m\u001b[43m,\u001b[49m\u001b[43m \u001b[49m\u001b[43muid\u001b[49m\u001b[43m,\u001b[49m\u001b[43m \u001b[49m\u001b[43mumask\u001b[49m\u001b[43m,\u001b[49m\n\u001b[0;32m    979\u001b[0m \u001b[43m                        \u001b[49m\u001b[43mstart_new_session\u001b[49m\u001b[43m)\u001b[49m\n\u001b[0;32m    980\u001b[0m \u001b[38;5;28;01mexcept\u001b[39;00m:\n\u001b[0;32m    981\u001b[0m     \u001b[38;5;66;03m# Cleanup if the child failed starting.\u001b[39;00m\n",
      "File \u001b[1;32mc:\\Users\\lukas\\miniconda3\\envs\\backdoor-crit\\lib\\subprocess.py:1456\u001b[0m, in \u001b[0;36mPopen._execute_child\u001b[1;34m(self, args, executable, preexec_fn, close_fds, pass_fds, cwd, env, startupinfo, creationflags, shell, p2cread, p2cwrite, c2pread, c2pwrite, errread, errwrite, unused_restore_signals, unused_gid, unused_gids, unused_uid, unused_umask, unused_start_new_session)\u001b[0m\n\u001b[0;32m   1455\u001b[0m \u001b[38;5;28;01mtry\u001b[39;00m:\n\u001b[1;32m-> 1456\u001b[0m     hp, ht, pid, tid \u001b[38;5;241m=\u001b[39m \u001b[43m_winapi\u001b[49m\u001b[38;5;241;43m.\u001b[39;49m\u001b[43mCreateProcess\u001b[49m\u001b[43m(\u001b[49m\u001b[43mexecutable\u001b[49m\u001b[43m,\u001b[49m\u001b[43m \u001b[49m\u001b[43margs\u001b[49m\u001b[43m,\u001b[49m\n\u001b[0;32m   1457\u001b[0m \u001b[43m                             \u001b[49m\u001b[38;5;66;43;03m# no special security\u001b[39;49;00m\n\u001b[0;32m   1458\u001b[0m \u001b[43m                             \u001b[49m\u001b[38;5;28;43;01mNone\u001b[39;49;00m\u001b[43m,\u001b[49m\u001b[43m \u001b[49m\u001b[38;5;28;43;01mNone\u001b[39;49;00m\u001b[43m,\u001b[49m\n\u001b[0;32m   1459\u001b[0m \u001b[43m                             \u001b[49m\u001b[38;5;28;43mint\u001b[39;49m\u001b[43m(\u001b[49m\u001b[38;5;129;43;01mnot\u001b[39;49;00m\u001b[43m \u001b[49m\u001b[43mclose_fds\u001b[49m\u001b[43m)\u001b[49m\u001b[43m,\u001b[49m\n\u001b[0;32m   1460\u001b[0m \u001b[43m                             \u001b[49m\u001b[43mcreationflags\u001b[49m\u001b[43m,\u001b[49m\n\u001b[0;32m   1461\u001b[0m \u001b[43m                             \u001b[49m\u001b[43menv\u001b[49m\u001b[43m,\u001b[49m\n\u001b[0;32m   1462\u001b[0m \u001b[43m                             \u001b[49m\u001b[43mcwd\u001b[49m\u001b[43m,\u001b[49m\n\u001b[0;32m   1463\u001b[0m \u001b[43m                             \u001b[49m\u001b[43mstartupinfo\u001b[49m\u001b[43m)\u001b[49m\n\u001b[0;32m   1464\u001b[0m \u001b[38;5;28;01mfinally\u001b[39;00m:\n\u001b[0;32m   1465\u001b[0m     \u001b[38;5;66;03m# Child is launched. Close the parent's copy of those pipe\u001b[39;00m\n\u001b[0;32m   1466\u001b[0m     \u001b[38;5;66;03m# handles that only the child should have open.  You need\u001b[39;00m\n\u001b[1;32m   (...)\u001b[0m\n\u001b[0;32m   1469\u001b[0m     \u001b[38;5;66;03m# pipe will not close when the child process exits and the\u001b[39;00m\n\u001b[0;32m   1470\u001b[0m     \u001b[38;5;66;03m# ReadFile will hang.\u001b[39;00m\n",
      "\u001b[1;31mFileNotFoundError\u001b[0m: [WinError 2] Nie można odnaleźć określonego pliku",
      "\nThe above exception was the direct cause of the following exception:\n",
      "\u001b[1;31mExecutableNotFound\u001b[0m                        Traceback (most recent call last)",
      "File \u001b[1;32mc:\\Users\\lukas\\miniconda3\\envs\\backdoor-crit\\lib\\site-packages\\IPython\\core\\formatters.py:1036\u001b[0m, in \u001b[0;36mMimeBundleFormatter.__call__\u001b[1;34m(self, obj, include, exclude)\u001b[0m\n\u001b[0;32m   1033\u001b[0m     method \u001b[38;5;241m=\u001b[39m get_real_method(obj, \u001b[38;5;28mself\u001b[39m\u001b[38;5;241m.\u001b[39mprint_method)\n\u001b[0;32m   1035\u001b[0m     \u001b[38;5;28;01mif\u001b[39;00m method \u001b[38;5;129;01mis\u001b[39;00m \u001b[38;5;129;01mnot\u001b[39;00m \u001b[38;5;28;01mNone\u001b[39;00m:\n\u001b[1;32m-> 1036\u001b[0m         \u001b[38;5;28;01mreturn\u001b[39;00m \u001b[43mmethod\u001b[49m\u001b[43m(\u001b[49m\u001b[43minclude\u001b[49m\u001b[38;5;241;43m=\u001b[39;49m\u001b[43minclude\u001b[49m\u001b[43m,\u001b[49m\u001b[43m \u001b[49m\u001b[43mexclude\u001b[49m\u001b[38;5;241;43m=\u001b[39;49m\u001b[43mexclude\u001b[49m\u001b[43m)\u001b[49m\n\u001b[0;32m   1037\u001b[0m     \u001b[38;5;28;01mreturn\u001b[39;00m \u001b[38;5;28;01mNone\u001b[39;00m\n\u001b[0;32m   1038\u001b[0m \u001b[38;5;28;01melse\u001b[39;00m:\n",
      "File \u001b[1;32mc:\\Users\\lukas\\miniconda3\\envs\\backdoor-crit\\lib\\site-packages\\graphviz\\jupyter_integration.py:98\u001b[0m, in \u001b[0;36mJupyterIntegration._repr_mimebundle_\u001b[1;34m(self, include, exclude, **_)\u001b[0m\n\u001b[0;32m     96\u001b[0m include \u001b[38;5;241m=\u001b[39m \u001b[38;5;28mset\u001b[39m(include) \u001b[38;5;28;01mif\u001b[39;00m include \u001b[38;5;129;01mis\u001b[39;00m \u001b[38;5;129;01mnot\u001b[39;00m \u001b[38;5;28;01mNone\u001b[39;00m \u001b[38;5;28;01melse\u001b[39;00m {\u001b[38;5;28mself\u001b[39m\u001b[38;5;241m.\u001b[39m_jupyter_mimetype}\n\u001b[0;32m     97\u001b[0m include \u001b[38;5;241m-\u001b[39m\u001b[38;5;241m=\u001b[39m \u001b[38;5;28mset\u001b[39m(exclude \u001b[38;5;129;01mor\u001b[39;00m [])\n\u001b[1;32m---> 98\u001b[0m \u001b[38;5;28;01mreturn\u001b[39;00m {mimetype: \u001b[38;5;28mgetattr\u001b[39m(\u001b[38;5;28mself\u001b[39m, method_name)()\n\u001b[0;32m     99\u001b[0m         \u001b[38;5;28;01mfor\u001b[39;00m mimetype, method_name \u001b[38;5;129;01min\u001b[39;00m MIME_TYPES\u001b[38;5;241m.\u001b[39mitems()\n\u001b[0;32m    100\u001b[0m         \u001b[38;5;28;01mif\u001b[39;00m mimetype \u001b[38;5;129;01min\u001b[39;00m include}\n",
      "File \u001b[1;32mc:\\Users\\lukas\\miniconda3\\envs\\backdoor-crit\\lib\\site-packages\\graphviz\\jupyter_integration.py:98\u001b[0m, in \u001b[0;36m<dictcomp>\u001b[1;34m(.0)\u001b[0m\n\u001b[0;32m     96\u001b[0m include \u001b[38;5;241m=\u001b[39m \u001b[38;5;28mset\u001b[39m(include) \u001b[38;5;28;01mif\u001b[39;00m include \u001b[38;5;129;01mis\u001b[39;00m \u001b[38;5;129;01mnot\u001b[39;00m \u001b[38;5;28;01mNone\u001b[39;00m \u001b[38;5;28;01melse\u001b[39;00m {\u001b[38;5;28mself\u001b[39m\u001b[38;5;241m.\u001b[39m_jupyter_mimetype}\n\u001b[0;32m     97\u001b[0m include \u001b[38;5;241m-\u001b[39m\u001b[38;5;241m=\u001b[39m \u001b[38;5;28mset\u001b[39m(exclude \u001b[38;5;129;01mor\u001b[39;00m [])\n\u001b[1;32m---> 98\u001b[0m \u001b[38;5;28;01mreturn\u001b[39;00m {mimetype: \u001b[38;5;28;43mgetattr\u001b[39;49m\u001b[43m(\u001b[49m\u001b[38;5;28;43mself\u001b[39;49m\u001b[43m,\u001b[49m\u001b[43m \u001b[49m\u001b[43mmethod_name\u001b[49m\u001b[43m)\u001b[49m\u001b[43m(\u001b[49m\u001b[43m)\u001b[49m\n\u001b[0;32m     99\u001b[0m         \u001b[38;5;28;01mfor\u001b[39;00m mimetype, method_name \u001b[38;5;129;01min\u001b[39;00m MIME_TYPES\u001b[38;5;241m.\u001b[39mitems()\n\u001b[0;32m    100\u001b[0m         \u001b[38;5;28;01mif\u001b[39;00m mimetype \u001b[38;5;129;01min\u001b[39;00m include}\n",
      "File \u001b[1;32mc:\\Users\\lukas\\miniconda3\\envs\\backdoor-crit\\lib\\site-packages\\graphviz\\jupyter_integration.py:112\u001b[0m, in \u001b[0;36mJupyterIntegration._repr_image_svg_xml\u001b[1;34m(self)\u001b[0m\n\u001b[0;32m    110\u001b[0m \u001b[38;5;28;01mdef\u001b[39;00m\u001b[38;5;250m \u001b[39m\u001b[38;5;21m_repr_image_svg_xml\u001b[39m(\u001b[38;5;28mself\u001b[39m) \u001b[38;5;241m-\u001b[39m\u001b[38;5;241m>\u001b[39m \u001b[38;5;28mstr\u001b[39m:\n\u001b[0;32m    111\u001b[0m \u001b[38;5;250m    \u001b[39m\u001b[38;5;124;03m\"\"\"Return the rendered graph as SVG string.\"\"\"\u001b[39;00m\n\u001b[1;32m--> 112\u001b[0m     \u001b[38;5;28;01mreturn\u001b[39;00m \u001b[38;5;28;43mself\u001b[39;49m\u001b[38;5;241;43m.\u001b[39;49m\u001b[43mpipe\u001b[49m\u001b[43m(\u001b[49m\u001b[38;5;28;43mformat\u001b[39;49m\u001b[38;5;241;43m=\u001b[39;49m\u001b[38;5;124;43m'\u001b[39;49m\u001b[38;5;124;43msvg\u001b[39;49m\u001b[38;5;124;43m'\u001b[39;49m\u001b[43m,\u001b[49m\u001b[43m \u001b[49m\u001b[43mencoding\u001b[49m\u001b[38;5;241;43m=\u001b[39;49m\u001b[43mSVG_ENCODING\u001b[49m\u001b[43m)\u001b[49m\n",
      "File \u001b[1;32mc:\\Users\\lukas\\miniconda3\\envs\\backdoor-crit\\lib\\site-packages\\graphviz\\piping.py:104\u001b[0m, in \u001b[0;36mPipe.pipe\u001b[1;34m(self, format, renderer, formatter, neato_no_op, quiet, engine, encoding)\u001b[0m\n\u001b[0;32m     55\u001b[0m \u001b[38;5;28;01mdef\u001b[39;00m\u001b[38;5;250m \u001b[39m\u001b[38;5;21mpipe\u001b[39m(\u001b[38;5;28mself\u001b[39m,\n\u001b[0;32m     56\u001b[0m          \u001b[38;5;28mformat\u001b[39m: typing\u001b[38;5;241m.\u001b[39mOptional[\u001b[38;5;28mstr\u001b[39m] \u001b[38;5;241m=\u001b[39m \u001b[38;5;28;01mNone\u001b[39;00m,\n\u001b[0;32m     57\u001b[0m          renderer: typing\u001b[38;5;241m.\u001b[39mOptional[\u001b[38;5;28mstr\u001b[39m] \u001b[38;5;241m=\u001b[39m \u001b[38;5;28;01mNone\u001b[39;00m,\n\u001b[1;32m   (...)\u001b[0m\n\u001b[0;32m     61\u001b[0m          engine: typing\u001b[38;5;241m.\u001b[39mOptional[\u001b[38;5;28mstr\u001b[39m] \u001b[38;5;241m=\u001b[39m \u001b[38;5;28;01mNone\u001b[39;00m,\n\u001b[0;32m     62\u001b[0m          encoding: typing\u001b[38;5;241m.\u001b[39mOptional[\u001b[38;5;28mstr\u001b[39m] \u001b[38;5;241m=\u001b[39m \u001b[38;5;28;01mNone\u001b[39;00m) \u001b[38;5;241m-\u001b[39m\u001b[38;5;241m>\u001b[39m typing\u001b[38;5;241m.\u001b[39mUnion[\u001b[38;5;28mbytes\u001b[39m, \u001b[38;5;28mstr\u001b[39m]:\n\u001b[0;32m     63\u001b[0m \u001b[38;5;250m    \u001b[39m\u001b[38;5;124;03m\"\"\"Return the source piped through the Graphviz layout command.\u001b[39;00m\n\u001b[0;32m     64\u001b[0m \n\u001b[0;32m     65\u001b[0m \u001b[38;5;124;03m    Args:\u001b[39;00m\n\u001b[1;32m   (...)\u001b[0m\n\u001b[0;32m    102\u001b[0m \u001b[38;5;124;03m        '<?xml version='\u001b[39;00m\n\u001b[0;32m    103\u001b[0m \u001b[38;5;124;03m    \"\"\"\u001b[39;00m\n\u001b[1;32m--> 104\u001b[0m     \u001b[38;5;28;01mreturn\u001b[39;00m \u001b[38;5;28;43mself\u001b[39;49m\u001b[38;5;241;43m.\u001b[39;49m\u001b[43m_pipe_legacy\u001b[49m\u001b[43m(\u001b[49m\u001b[38;5;28;43mformat\u001b[39;49m\u001b[43m,\u001b[49m\n\u001b[0;32m    105\u001b[0m \u001b[43m                             \u001b[49m\u001b[43mrenderer\u001b[49m\u001b[38;5;241;43m=\u001b[39;49m\u001b[43mrenderer\u001b[49m\u001b[43m,\u001b[49m\n\u001b[0;32m    106\u001b[0m \u001b[43m                             \u001b[49m\u001b[43mformatter\u001b[49m\u001b[38;5;241;43m=\u001b[39;49m\u001b[43mformatter\u001b[49m\u001b[43m,\u001b[49m\n\u001b[0;32m    107\u001b[0m \u001b[43m                             \u001b[49m\u001b[43mneato_no_op\u001b[49m\u001b[38;5;241;43m=\u001b[39;49m\u001b[43mneato_no_op\u001b[49m\u001b[43m,\u001b[49m\n\u001b[0;32m    108\u001b[0m \u001b[43m                             \u001b[49m\u001b[43mquiet\u001b[49m\u001b[38;5;241;43m=\u001b[39;49m\u001b[43mquiet\u001b[49m\u001b[43m,\u001b[49m\n\u001b[0;32m    109\u001b[0m \u001b[43m                             \u001b[49m\u001b[43mengine\u001b[49m\u001b[38;5;241;43m=\u001b[39;49m\u001b[43mengine\u001b[49m\u001b[43m,\u001b[49m\n\u001b[0;32m    110\u001b[0m \u001b[43m                             \u001b[49m\u001b[43mencoding\u001b[49m\u001b[38;5;241;43m=\u001b[39;49m\u001b[43mencoding\u001b[49m\u001b[43m)\u001b[49m\n",
      "File \u001b[1;32mc:\\Users\\lukas\\miniconda3\\envs\\backdoor-crit\\lib\\site-packages\\graphviz\\_tools.py:185\u001b[0m, in \u001b[0;36mdeprecate_positional_args.<locals>.decorator.<locals>.wrapper\u001b[1;34m(*args, **kwargs)\u001b[0m\n\u001b[0;32m    177\u001b[0m     wanted \u001b[38;5;241m=\u001b[39m \u001b[38;5;124m'\u001b[39m\u001b[38;5;124m, \u001b[39m\u001b[38;5;124m'\u001b[39m\u001b[38;5;241m.\u001b[39mjoin(\u001b[38;5;124mf\u001b[39m\u001b[38;5;124m'\u001b[39m\u001b[38;5;132;01m{\u001b[39;00mname\u001b[38;5;132;01m}\u001b[39;00m\u001b[38;5;124m=\u001b[39m\u001b[38;5;132;01m{\u001b[39;00mvalue\u001b[38;5;132;01m!r}\u001b[39;00m\u001b[38;5;124m'\u001b[39m\n\u001b[0;32m    178\u001b[0m                        \u001b[38;5;28;01mfor\u001b[39;00m name, value \u001b[38;5;129;01min\u001b[39;00m deprecated\u001b[38;5;241m.\u001b[39mitems())\n\u001b[0;32m    179\u001b[0m     warnings\u001b[38;5;241m.\u001b[39mwarn(\u001b[38;5;124mf\u001b[39m\u001b[38;5;124m'\u001b[39m\u001b[38;5;124mThe signature of \u001b[39m\u001b[38;5;132;01m{\u001b[39;00mfunc_name\u001b[38;5;132;01m}\u001b[39;00m\u001b[38;5;124m will be reduced\u001b[39m\u001b[38;5;124m'\u001b[39m\n\u001b[0;32m    180\u001b[0m                   \u001b[38;5;124mf\u001b[39m\u001b[38;5;124m'\u001b[39m\u001b[38;5;124m to \u001b[39m\u001b[38;5;132;01m{\u001b[39;00msupported_number\u001b[38;5;132;01m}\u001b[39;00m\u001b[38;5;124m positional arg\u001b[39m\u001b[38;5;132;01m{\u001b[39;00ms_\u001b[38;5;132;01m}\u001b[39;00m\u001b[38;5;132;01m{\u001b[39;00mqualification\u001b[38;5;132;01m}\u001b[39;00m\u001b[38;5;124m'\u001b[39m\n\u001b[0;32m    181\u001b[0m                   \u001b[38;5;124mf\u001b[39m\u001b[38;5;124m'\u001b[39m\u001b[38;5;124m \u001b[39m\u001b[38;5;132;01m{\u001b[39;00m\u001b[38;5;28mlist\u001b[39m(supported)\u001b[38;5;132;01m}\u001b[39;00m\u001b[38;5;124m: pass \u001b[39m\u001b[38;5;132;01m{\u001b[39;00mwanted\u001b[38;5;132;01m}\u001b[39;00m\u001b[38;5;124m as keyword arg\u001b[39m\u001b[38;5;132;01m{\u001b[39;00ms_\u001b[38;5;132;01m}\u001b[39;00m\u001b[38;5;124m'\u001b[39m,\n\u001b[0;32m    182\u001b[0m                   stacklevel\u001b[38;5;241m=\u001b[39mstacklevel,\n\u001b[0;32m    183\u001b[0m                   category\u001b[38;5;241m=\u001b[39mcategory)\n\u001b[1;32m--> 185\u001b[0m \u001b[38;5;28;01mreturn\u001b[39;00m func(\u001b[38;5;241m*\u001b[39margs, \u001b[38;5;241m*\u001b[39m\u001b[38;5;241m*\u001b[39mkwargs)\n",
      "File \u001b[1;32mc:\\Users\\lukas\\miniconda3\\envs\\backdoor-crit\\lib\\site-packages\\graphviz\\piping.py:121\u001b[0m, in \u001b[0;36mPipe._pipe_legacy\u001b[1;34m(self, format, renderer, formatter, neato_no_op, quiet, engine, encoding)\u001b[0m\n\u001b[0;32m    112\u001b[0m \u001b[38;5;129m@_tools\u001b[39m\u001b[38;5;241m.\u001b[39mdeprecate_positional_args(supported_number\u001b[38;5;241m=\u001b[39m\u001b[38;5;241m1\u001b[39m, ignore_arg\u001b[38;5;241m=\u001b[39m\u001b[38;5;124m'\u001b[39m\u001b[38;5;124mself\u001b[39m\u001b[38;5;124m'\u001b[39m)\n\u001b[0;32m    113\u001b[0m \u001b[38;5;28;01mdef\u001b[39;00m\u001b[38;5;250m \u001b[39m\u001b[38;5;21m_pipe_legacy\u001b[39m(\u001b[38;5;28mself\u001b[39m,\n\u001b[0;32m    114\u001b[0m                  \u001b[38;5;28mformat\u001b[39m: typing\u001b[38;5;241m.\u001b[39mOptional[\u001b[38;5;28mstr\u001b[39m] \u001b[38;5;241m=\u001b[39m \u001b[38;5;28;01mNone\u001b[39;00m,\n\u001b[1;32m   (...)\u001b[0m\n\u001b[0;32m    119\u001b[0m                  engine: typing\u001b[38;5;241m.\u001b[39mOptional[\u001b[38;5;28mstr\u001b[39m] \u001b[38;5;241m=\u001b[39m \u001b[38;5;28;01mNone\u001b[39;00m,\n\u001b[0;32m    120\u001b[0m                  encoding: typing\u001b[38;5;241m.\u001b[39mOptional[\u001b[38;5;28mstr\u001b[39m] \u001b[38;5;241m=\u001b[39m \u001b[38;5;28;01mNone\u001b[39;00m) \u001b[38;5;241m-\u001b[39m\u001b[38;5;241m>\u001b[39m typing\u001b[38;5;241m.\u001b[39mUnion[\u001b[38;5;28mbytes\u001b[39m, \u001b[38;5;28mstr\u001b[39m]:\n\u001b[1;32m--> 121\u001b[0m     \u001b[38;5;28;01mreturn\u001b[39;00m \u001b[38;5;28;43mself\u001b[39;49m\u001b[38;5;241;43m.\u001b[39;49m\u001b[43m_pipe_future\u001b[49m\u001b[43m(\u001b[49m\u001b[38;5;28;43mformat\u001b[39;49m\u001b[43m,\u001b[49m\n\u001b[0;32m    122\u001b[0m \u001b[43m                             \u001b[49m\u001b[43mrenderer\u001b[49m\u001b[38;5;241;43m=\u001b[39;49m\u001b[43mrenderer\u001b[49m\u001b[43m,\u001b[49m\n\u001b[0;32m    123\u001b[0m \u001b[43m                             \u001b[49m\u001b[43mformatter\u001b[49m\u001b[38;5;241;43m=\u001b[39;49m\u001b[43mformatter\u001b[49m\u001b[43m,\u001b[49m\n\u001b[0;32m    124\u001b[0m \u001b[43m                             \u001b[49m\u001b[43mneato_no_op\u001b[49m\u001b[38;5;241;43m=\u001b[39;49m\u001b[43mneato_no_op\u001b[49m\u001b[43m,\u001b[49m\n\u001b[0;32m    125\u001b[0m \u001b[43m                             \u001b[49m\u001b[43mquiet\u001b[49m\u001b[38;5;241;43m=\u001b[39;49m\u001b[43mquiet\u001b[49m\u001b[43m,\u001b[49m\n\u001b[0;32m    126\u001b[0m \u001b[43m                             \u001b[49m\u001b[43mengine\u001b[49m\u001b[38;5;241;43m=\u001b[39;49m\u001b[43mengine\u001b[49m\u001b[43m,\u001b[49m\n\u001b[0;32m    127\u001b[0m \u001b[43m                             \u001b[49m\u001b[43mencoding\u001b[49m\u001b[38;5;241;43m=\u001b[39;49m\u001b[43mencoding\u001b[49m\u001b[43m)\u001b[49m\n",
      "File \u001b[1;32mc:\\Users\\lukas\\miniconda3\\envs\\backdoor-crit\\lib\\site-packages\\graphviz\\piping.py:149\u001b[0m, in \u001b[0;36mPipe._pipe_future\u001b[1;34m(self, format, renderer, formatter, neato_no_op, quiet, engine, encoding)\u001b[0m\n\u001b[0;32m    146\u001b[0m \u001b[38;5;28;01mif\u001b[39;00m encoding \u001b[38;5;129;01mis\u001b[39;00m \u001b[38;5;129;01mnot\u001b[39;00m \u001b[38;5;28;01mNone\u001b[39;00m:\n\u001b[0;32m    147\u001b[0m     \u001b[38;5;28;01mif\u001b[39;00m codecs\u001b[38;5;241m.\u001b[39mlookup(encoding) \u001b[38;5;129;01mis\u001b[39;00m codecs\u001b[38;5;241m.\u001b[39mlookup(\u001b[38;5;28mself\u001b[39m\u001b[38;5;241m.\u001b[39mencoding):\n\u001b[0;32m    148\u001b[0m         \u001b[38;5;66;03m# common case: both stdin and stdout need the same encoding\u001b[39;00m\n\u001b[1;32m--> 149\u001b[0m         \u001b[38;5;28;01mreturn\u001b[39;00m \u001b[38;5;28mself\u001b[39m\u001b[38;5;241m.\u001b[39m_pipe_lines_string(\u001b[38;5;241m*\u001b[39margs, encoding\u001b[38;5;241m=\u001b[39mencoding, \u001b[38;5;241m*\u001b[39m\u001b[38;5;241m*\u001b[39mkwargs)\n\u001b[0;32m    150\u001b[0m     \u001b[38;5;28;01mtry\u001b[39;00m:\n\u001b[0;32m    151\u001b[0m         raw \u001b[38;5;241m=\u001b[39m \u001b[38;5;28mself\u001b[39m\u001b[38;5;241m.\u001b[39m_pipe_lines(\u001b[38;5;241m*\u001b[39margs, input_encoding\u001b[38;5;241m=\u001b[39m\u001b[38;5;28mself\u001b[39m\u001b[38;5;241m.\u001b[39mencoding, \u001b[38;5;241m*\u001b[39m\u001b[38;5;241m*\u001b[39mkwargs)\n",
      "File \u001b[1;32mc:\\Users\\lukas\\miniconda3\\envs\\backdoor-crit\\lib\\site-packages\\graphviz\\backend\\piping.py:212\u001b[0m, in \u001b[0;36mpipe_lines_string\u001b[1;34m(engine, format, input_lines, encoding, renderer, formatter, neato_no_op, quiet)\u001b[0m\n\u001b[0;32m    206\u001b[0m cmd \u001b[38;5;241m=\u001b[39m dot_command\u001b[38;5;241m.\u001b[39mcommand(engine, \u001b[38;5;28mformat\u001b[39m,\n\u001b[0;32m    207\u001b[0m                           renderer\u001b[38;5;241m=\u001b[39mrenderer,\n\u001b[0;32m    208\u001b[0m                           formatter\u001b[38;5;241m=\u001b[39mformatter,\n\u001b[0;32m    209\u001b[0m                           neato_no_op\u001b[38;5;241m=\u001b[39mneato_no_op)\n\u001b[0;32m    210\u001b[0m kwargs \u001b[38;5;241m=\u001b[39m {\u001b[38;5;124m'\u001b[39m\u001b[38;5;124minput_lines\u001b[39m\u001b[38;5;124m'\u001b[39m: input_lines, \u001b[38;5;124m'\u001b[39m\u001b[38;5;124mencoding\u001b[39m\u001b[38;5;124m'\u001b[39m: encoding}\n\u001b[1;32m--> 212\u001b[0m proc \u001b[38;5;241m=\u001b[39m execute\u001b[38;5;241m.\u001b[39mrun_check(cmd, capture_output\u001b[38;5;241m=\u001b[39m\u001b[38;5;28;01mTrue\u001b[39;00m, quiet\u001b[38;5;241m=\u001b[39mquiet, \u001b[38;5;241m*\u001b[39m\u001b[38;5;241m*\u001b[39mkwargs)\n\u001b[0;32m    213\u001b[0m \u001b[38;5;28;01mreturn\u001b[39;00m proc\u001b[38;5;241m.\u001b[39mstdout\n",
      "File \u001b[1;32mc:\\Users\\lukas\\miniconda3\\envs\\backdoor-crit\\lib\\site-packages\\graphviz\\backend\\execute.py:81\u001b[0m, in \u001b[0;36mrun_check\u001b[1;34m(cmd, input_lines, encoding, quiet, **kwargs)\u001b[0m\n\u001b[0;32m     79\u001b[0m \u001b[38;5;28;01mexcept\u001b[39;00m \u001b[38;5;167;01mOSError\u001b[39;00m \u001b[38;5;28;01mas\u001b[39;00m e:\n\u001b[0;32m     80\u001b[0m     \u001b[38;5;28;01mif\u001b[39;00m e\u001b[38;5;241m.\u001b[39merrno \u001b[38;5;241m==\u001b[39m errno\u001b[38;5;241m.\u001b[39mENOENT:\n\u001b[1;32m---> 81\u001b[0m         \u001b[38;5;28;01mraise\u001b[39;00m ExecutableNotFound(cmd) \u001b[38;5;28;01mfrom\u001b[39;00m\u001b[38;5;250m \u001b[39m\u001b[38;5;21;01me\u001b[39;00m\n\u001b[0;32m     82\u001b[0m     \u001b[38;5;28;01mraise\u001b[39;00m\n\u001b[0;32m     84\u001b[0m \u001b[38;5;28;01mif\u001b[39;00m \u001b[38;5;129;01mnot\u001b[39;00m quiet \u001b[38;5;129;01mand\u001b[39;00m proc\u001b[38;5;241m.\u001b[39mstderr:\n",
      "\u001b[1;31mExecutableNotFound\u001b[0m: failed to execute WindowsPath('dot'), make sure the Graphviz executables are on your systems' PATH"
     ]
    },
    {
     "data": {
      "text/plain": [
       "<graphviz.graphs.Digraph at 0x170549456f0>"
      ]
     },
     "metadata": {},
     "output_type": "display_data"
    }
   ],
   "source": [
    "draw_dag(\n",
    "    edges=[\n",
    "        ('Motivation', 'TrainingHours'),\n",
    "        ('Motivation', 'Productivity'),\n",
    "        ('TrainingHours', 'Productivity')\n",
    "    ],\n",
    "    title='Example 1;'\n",
    ")\n"
   ]
  },
  {
   "cell_type": "code",
   "execution_count": 28,
   "id": "13013c1a",
   "metadata": {},
   "outputs": [],
   "source": [
    "\n",
    "motivation = np.random.normal(0, 1, n)\n",
    "training_hours = 0.9 * motivation + np.random.normal(0, 2, n)\n",
    "productivity = 5 * training_hours + 3 * motivation + np.random.normal(0, 1, n)\n",
    "\n",
    "data1 = pd.DataFrame({\n",
    "    'motivation': motivation,\n",
    "    'training_hours': training_hours,\n",
    "    'productivity': productivity\n",
    "})"
   ]
  },
  {
   "cell_type": "code",
   "execution_count": 29,
   "id": "86d8f2c4",
   "metadata": {},
   "outputs": [
    {
     "name": "stdout",
     "output_type": "stream",
     "text": [
      "Naive regression without adjustment:\n",
      "                            OLS Regression Results                            \n",
      "==============================================================================\n",
      "Dep. Variable:           productivity   R-squared:                       0.939\n",
      "Model:                            OLS   Adj. R-squared:                  0.939\n",
      "Method:                 Least Squares   F-statistic:                 1.536e+04\n",
      "Date:                Thu, 26 Jun 2025   Prob (F-statistic):               0.00\n",
      "Time:                        19:45:16   Log-Likelihood:                -2530.2\n",
      "No. Observations:                1000   AIC:                             5064.\n",
      "Df Residuals:                     998   BIC:                             5074.\n",
      "Df Model:                           1                                         \n",
      "Covariance Type:            nonrobust                                         \n",
      "==================================================================================\n",
      "                     coef    std err          t      P>|t|      [0.025      0.975]\n",
      "----------------------------------------------------------------------------------\n",
      "Intercept          0.0567      0.096      0.590      0.556      -0.132       0.245\n",
      "training_hours     5.5631      0.045    123.922      0.000       5.475       5.651\n",
      "==============================================================================\n",
      "Omnibus:                        0.961   Durbin-Watson:                   2.001\n",
      "Prob(Omnibus):                  0.619   Jarque-Bera (JB):                1.015\n",
      "Skew:                           0.027   Prob(JB):                        0.602\n",
      "Kurtosis:                       2.854   Cond. No.                         2.14\n",
      "==============================================================================\n",
      "\n",
      "Notes:\n",
      "[1] Standard Errors assume that the covariance matrix of the errors is correctly specified.\n"
     ]
    }
   ],
   "source": [
    "## without adjustment\n",
    "\n",
    "print(\"Naive regression without adjustment:\")\n",
    "naive_model1 = smf.ols('productivity ~ training_hours', data=data1).fit()\n",
    "print(naive_model1.summary())\n",
    "\n"
   ]
  },
  {
   "cell_type": "code",
   "execution_count": 30,
   "id": "6d34e7ea",
   "metadata": {},
   "outputs": [
    {
     "name": "stdout",
     "output_type": "stream",
     "text": [
      "Regression with adjustment for motivation:\n",
      "                            OLS Regression Results                            \n",
      "==============================================================================\n",
      "Dep. Variable:           productivity   R-squared:                       0.993\n",
      "Model:                            OLS   Adj. R-squared:                  0.993\n",
      "Method:                 Least Squares   F-statistic:                 7.503e+04\n",
      "Date:                Thu, 26 Jun 2025   Prob (F-statistic):               0.00\n",
      "Time:                        19:45:18   Log-Likelihood:                -1418.2\n",
      "No. Observations:                1000   AIC:                             2842.\n",
      "Df Residuals:                     997   BIC:                             2857.\n",
      "Df Model:                           2                                         \n",
      "Covariance Type:            nonrobust                                         \n",
      "==================================================================================\n",
      "                     coef    std err          t      P>|t|      [0.025      0.975]\n",
      "----------------------------------------------------------------------------------\n",
      "Intercept          0.0108      0.032      0.343      0.732      -0.051       0.073\n",
      "motivation         3.0513      0.034     90.666      0.000       2.985       3.117\n",
      "training_hours     4.9617      0.016    306.414      0.000       4.930       4.993\n",
      "==============================================================================\n",
      "Omnibus:                        0.729   Durbin-Watson:                   2.026\n",
      "Prob(Omnibus):                  0.695   Jarque-Bera (JB):                0.600\n",
      "Skew:                           0.029   Prob(JB):                        0.741\n",
      "Kurtosis:                       3.105   Cond. No.                         2.39\n",
      "==============================================================================\n",
      "\n",
      "Notes:\n",
      "[1] Standard Errors assume that the covariance matrix of the errors is correctly specified.\n"
     ]
    }
   ],
   "source": [
    "## with adjustment\n",
    "\n",
    "print(\"Regression with adjustment for motivation:\")\n",
    "model1 = smf.ols('productivity ~ motivation + training_hours', data=data1).fit()\n",
    "print(model1.summary())"
   ]
  },
  {
   "cell_type": "markdown",
   "id": "6c9623c9",
   "metadata": {},
   "source": [
    "Second example - two variable"
   ]
  },
  {
   "cell_type": "code",
   "execution_count": 31,
   "id": "47f1e496",
   "metadata": {},
   "outputs": [
    {
     "data": {
      "image/svg+xml": [
       "<?xml version=\"1.0\" encoding=\"UTF-8\" standalone=\"no\"?>\n",
       "<!DOCTYPE svg PUBLIC \"-//W3C//DTD SVG 1.1//EN\"\n",
       " \"http://www.w3.org/Graphics/SVG/1.1/DTD/svg11.dtd\">\n",
       "<!-- Generated by graphviz version 13.0.1 (0)\n",
       " -->\n",
       "<!-- Pages: 1 -->\n",
       "<svg width=\"240pt\" height=\"188pt\"\n",
       " viewBox=\"0.00 0.00 240.00 188.00\" xmlns=\"http://www.w3.org/2000/svg\" xmlns:xlink=\"http://www.w3.org/1999/xlink\">\n",
       "<g id=\"graph0\" class=\"graph\" transform=\"scale(1 1) rotate(0) translate(4 184)\">\n",
       "<polygon fill=\"white\" stroke=\"none\" points=\"-4,4 -4,-184 236.14,-184 236.14,4 -4,4\"/>\n",
       "<!-- Seasonality -->\n",
       "<g id=\"node1\" class=\"node\">\n",
       "<title>Seasonality</title>\n",
       "<ellipse fill=\"none\" stroke=\"black\" cx=\"53.4\" cy=\"-162\" rx=\"53.4\" ry=\"18\"/>\n",
       "<text xml:space=\"preserve\" text-anchor=\"middle\" x=\"53.4\" y=\"-156.95\" font-family=\"Times New Roman,serif\" font-size=\"14.00\">Seasonality</text>\n",
       "</g>\n",
       "<!-- AdSpend -->\n",
       "<g id=\"node2\" class=\"node\">\n",
       "<title>AdSpend</title>\n",
       "<ellipse fill=\"none\" stroke=\"black\" cx=\"119.4\" cy=\"-90\" rx=\"45.21\" ry=\"18\"/>\n",
       "<text xml:space=\"preserve\" text-anchor=\"middle\" x=\"119.4\" y=\"-84.95\" font-family=\"Times New Roman,serif\" font-size=\"14.00\">AdSpend</text>\n",
       "</g>\n",
       "<!-- Seasonality&#45;&gt;AdSpend -->\n",
       "<g id=\"edge1\" class=\"edge\">\n",
       "<title>Seasonality&#45;&gt;AdSpend</title>\n",
       "<path fill=\"none\" stroke=\"black\" d=\"M69.04,-144.41C77.29,-135.66 87.58,-124.75 96.69,-115.08\"/>\n",
       "<polygon fill=\"black\" stroke=\"black\" points=\"98.97,-117.77 103.29,-108.09 93.88,-112.96 98.97,-117.77\"/>\n",
       "</g>\n",
       "<!-- Sales -->\n",
       "<g id=\"node4\" class=\"node\">\n",
       "<title>Sales</title>\n",
       "<ellipse fill=\"none\" stroke=\"black\" cx=\"119.4\" cy=\"-18\" rx=\"30.37\" ry=\"18\"/>\n",
       "<text xml:space=\"preserve\" text-anchor=\"middle\" x=\"119.4\" y=\"-12.95\" font-family=\"Times New Roman,serif\" font-size=\"14.00\">Sales</text>\n",
       "</g>\n",
       "<!-- Seasonality&#45;&gt;Sales -->\n",
       "<g id=\"edge3\" class=\"edge\">\n",
       "<title>Seasonality&#45;&gt;Sales</title>\n",
       "<path fill=\"none\" stroke=\"black\" d=\"M52.5,-143.64C52.24,-124.96 53.95,-94.86 65.4,-72 71.63,-59.55 81.96,-48.33 91.92,-39.45\"/>\n",
       "<polygon fill=\"black\" stroke=\"black\" points=\"93.9,-42.36 99.31,-33.25 89.4,-37 93.9,-42.36\"/>\n",
       "</g>\n",
       "<!-- AdSpend&#45;&gt;Sales -->\n",
       "<g id=\"edge5\" class=\"edge\">\n",
       "<title>AdSpend&#45;&gt;Sales</title>\n",
       "<path fill=\"none\" stroke=\"black\" d=\"M119.4,-71.7C119.4,-64.41 119.4,-55.73 119.4,-47.54\"/>\n",
       "<polygon fill=\"black\" stroke=\"black\" points=\"122.9,-47.62 119.4,-37.62 115.9,-47.62 122.9,-47.62\"/>\n",
       "</g>\n",
       "<!-- Economy -->\n",
       "<g id=\"node3\" class=\"node\">\n",
       "<title>Economy</title>\n",
       "<ellipse fill=\"none\" stroke=\"black\" cx=\"185.4\" cy=\"-162\" rx=\"46.75\" ry=\"18\"/>\n",
       "<text xml:space=\"preserve\" text-anchor=\"middle\" x=\"185.4\" y=\"-156.95\" font-family=\"Times New Roman,serif\" font-size=\"14.00\">Economy</text>\n",
       "</g>\n",
       "<!-- Economy&#45;&gt;AdSpend -->\n",
       "<g id=\"edge2\" class=\"edge\">\n",
       "<title>Economy&#45;&gt;AdSpend</title>\n",
       "<path fill=\"none\" stroke=\"black\" d=\"M170.09,-144.76C161.84,-136.02 151.5,-125.05 142.32,-115.31\"/>\n",
       "<polygon fill=\"black\" stroke=\"black\" points=\"145.07,-113.12 135.66,-108.25 139.98,-117.93 145.07,-113.12\"/>\n",
       "</g>\n",
       "<!-- Economy&#45;&gt;Sales -->\n",
       "<g id=\"edge4\" class=\"edge\">\n",
       "<title>Economy&#45;&gt;Sales</title>\n",
       "<path fill=\"none\" stroke=\"black\" d=\"M186.3,-143.64C186.55,-124.96 184.85,-94.86 173.4,-72 167.16,-59.55 156.84,-48.33 146.88,-39.45\"/>\n",
       "<polygon fill=\"black\" stroke=\"black\" points=\"149.4,-37 139.49,-33.25 144.9,-42.36 149.4,-37\"/>\n",
       "</g>\n",
       "</g>\n",
       "</svg>\n"
      ],
      "text/plain": [
       "<graphviz.graphs.Digraph at 0x16bd4d7e3e0>"
      ]
     },
     "metadata": {},
     "output_type": "display_data"
    }
   ],
   "source": [
    "draw_dag(\n",
    "    edges=[\n",
    "        ('Seasonality', 'AdSpend'),\n",
    "        ('Economy', 'AdSpend'),\n",
    "        ('Seasonality', 'Sales'),\n",
    "        ('Economy', 'Sales'),\n",
    "        ('AdSpend', 'Sales')\n",
    "    ],\n",
    "    title='Seasonality & Economy → AdSpend → Sales'\n",
    ")\n"
   ]
  },
  {
   "cell_type": "code",
   "execution_count": 32,
   "id": "2038a7d6",
   "metadata": {},
   "outputs": [],
   "source": [
    "\n",
    "seasonality = np.random.normal(0, 1, n)\n",
    "economy = np.random.normal(0, 1, n)\n",
    "ad_spend = 0.6 * seasonality + 0.4 * economy + np.random.normal(0, 1, n)\n",
    "sales = 3.0 * ad_spend + 1.0 * seasonality + 0.5 * economy + np.random.normal(0, 1, n)\n",
    "\n",
    "data2 = pd.DataFrame({\n",
    "    'seasonality': seasonality,\n",
    "    'economy': economy,\n",
    "    'ad_spend': ad_spend,\n",
    "    'sales': sales\n",
    "})"
   ]
  },
  {
   "cell_type": "code",
   "execution_count": 35,
   "id": "eb518e34",
   "metadata": {},
   "outputs": [
    {
     "name": "stdout",
     "output_type": "stream",
     "text": [
      "Unadjusted model:\n",
      "                            OLS Regression Results                            \n",
      "==============================================================================\n",
      "Dep. Variable:                  sales   R-squared:                       0.908\n",
      "Model:                            OLS   Adj. R-squared:                  0.908\n",
      "Method:                 Least Squares   F-statistic:                     9845.\n",
      "Date:                Thu, 26 Jun 2025   Prob (F-statistic):               0.00\n",
      "Time:                        19:48:09   Log-Likelihood:                -1749.4\n",
      "No. Observations:                1000   AIC:                             3503.\n",
      "Df Residuals:                     998   BIC:                             3513.\n",
      "Df Model:                           1                                         \n",
      "Covariance Type:            nonrobust                                         \n",
      "==============================================================================\n",
      "                 coef    std err          t      P>|t|      [0.025      0.975]\n",
      "------------------------------------------------------------------------------\n",
      "Intercept     -0.0385      0.044     -0.875      0.382      -0.125       0.048\n",
      "ad_spend       3.5792      0.036     99.220      0.000       3.508       3.650\n",
      "==============================================================================\n",
      "Omnibus:                        0.493   Durbin-Watson:                   1.897\n",
      "Prob(Omnibus):                  0.782   Jarque-Bera (JB):                0.430\n",
      "Skew:                           0.048   Prob(JB):                        0.807\n",
      "Kurtosis:                       3.030   Cond. No.                         1.22\n",
      "==============================================================================\n",
      "\n",
      "Notes:\n",
      "[1] Standard Errors assume that the covariance matrix of the errors is correctly specified.\n"
     ]
    }
   ],
   "source": [
    "\n",
    "## Naive (unadjusted) regression — violates Backdoor Criterion\n",
    "naive_model2 = smf.ols('sales ~ ad_spend', data=data2).fit()\n",
    "print(\"Unadjusted model:\")\n",
    "print(naive_model2.summary())\n",
    "\n"
   ]
  },
  {
   "cell_type": "code",
   "execution_count": 36,
   "id": "b2b9ecca",
   "metadata": {},
   "outputs": [
    {
     "name": "stdout",
     "output_type": "stream",
     "text": [
      "\n",
      "Adjusted model:\n",
      "                            OLS Regression Results                            \n",
      "==============================================================================\n",
      "Dep. Variable:                  sales   R-squared:                       0.954\n",
      "Model:                            OLS   Adj. R-squared:                  0.954\n",
      "Method:                 Least Squares   F-statistic:                     6949.\n",
      "Date:                Thu, 26 Jun 2025   Prob (F-statistic):               0.00\n",
      "Time:                        19:48:14   Log-Likelihood:                -1398.2\n",
      "No. Observations:                1000   AIC:                             2804.\n",
      "Df Residuals:                     996   BIC:                             2824.\n",
      "Df Model:                           3                                         \n",
      "Covariance Type:            nonrobust                                         \n",
      "===============================================================================\n",
      "                  coef    std err          t      P>|t|      [0.025      0.975]\n",
      "-------------------------------------------------------------------------------\n",
      "Intercept       0.0067      0.031      0.216      0.829      -0.054       0.068\n",
      "ad_spend        2.9961      0.031     95.431      0.000       2.934       3.058\n",
      "seasonality     1.0664      0.036     29.896      0.000       0.996       1.136\n",
      "economy         0.5410      0.033     16.364      0.000       0.476       0.606\n",
      "==============================================================================\n",
      "Omnibus:                        0.514   Durbin-Watson:                   1.904\n",
      "Prob(Omnibus):                  0.773   Jarque-Bera (JB):                0.599\n",
      "Skew:                           0.004   Prob(JB):                        0.741\n",
      "Kurtosis:                       2.880   Cond. No.                         2.02\n",
      "==============================================================================\n",
      "\n",
      "Notes:\n",
      "[1] Standard Errors assume that the covariance matrix of the errors is correctly specified.\n"
     ]
    }
   ],
   "source": [
    "## Adjusted regression — satisfies Backdoor Criterion by controlling for seasonality and economy\n",
    "model2 = smf.ols('sales ~ ad_spend + seasonality + economy', data=data2).fit()\n",
    "print(\"\\nAdjusted model:\")\n",
    "print(model2.summary())\n"
   ]
  },
  {
   "cell_type": "markdown",
   "id": "6b23a032",
   "metadata": {},
   "source": []
  },
  {
   "cell_type": "markdown",
   "id": "9021877b",
   "metadata": {},
   "source": [
    "Third example - collider"
   ]
  },
  {
   "cell_type": "code",
   "execution_count": 42,
   "id": "1e6ddae1",
   "metadata": {},
   "outputs": [
    {
     "data": {
      "image/svg+xml": [
       "<?xml version=\"1.0\" encoding=\"UTF-8\" standalone=\"no\"?>\n",
       "<!DOCTYPE svg PUBLIC \"-//W3C//DTD SVG 1.1//EN\"\n",
       " \"http://www.w3.org/Graphics/SVG/1.1/DTD/svg11.dtd\">\n",
       "<!-- Generated by graphviz version 13.0.1 (0)\n",
       " -->\n",
       "<!-- Pages: 1 -->\n",
       "<svg width=\"179pt\" height=\"188pt\"\n",
       " viewBox=\"0.00 0.00 179.00 188.00\" xmlns=\"http://www.w3.org/2000/svg\" xmlns:xlink=\"http://www.w3.org/1999/xlink\">\n",
       "<g id=\"graph0\" class=\"graph\" transform=\"scale(1 1) rotate(0) translate(4 184)\">\n",
       "<polygon fill=\"white\" stroke=\"none\" points=\"-4,4 -4,-184 175.32,-184 175.32,4 -4,4\"/>\n",
       "<!-- EmailCampaign -->\n",
       "<g id=\"node1\" class=\"node\">\n",
       "<title>EmailCampaign</title>\n",
       "<ellipse fill=\"none\" stroke=\"black\" cx=\"99.49\" cy=\"-162\" rx=\"71.82\" ry=\"18\"/>\n",
       "<text xml:space=\"preserve\" text-anchor=\"middle\" x=\"99.49\" y=\"-156.95\" font-family=\"Times New Roman,serif\" font-size=\"14.00\">EmailCampaign</text>\n",
       "</g>\n",
       "<!-- Engagement -->\n",
       "<g id=\"node2\" class=\"node\">\n",
       "<title>Engagement</title>\n",
       "<ellipse fill=\"none\" stroke=\"black\" cx=\"57.49\" cy=\"-90\" rx=\"57.49\" ry=\"18\"/>\n",
       "<text xml:space=\"preserve\" text-anchor=\"middle\" x=\"57.49\" y=\"-84.95\" font-family=\"Times New Roman,serif\" font-size=\"14.00\">Engagement</text>\n",
       "</g>\n",
       "<!-- EmailCampaign&#45;&gt;Engagement -->\n",
       "<g id=\"edge1\" class=\"edge\">\n",
       "<title>EmailCampaign&#45;&gt;Engagement</title>\n",
       "<path fill=\"none\" stroke=\"black\" d=\"M89.11,-143.7C84.43,-135.9 78.8,-126.51 73.59,-117.83\"/>\n",
       "<polygon fill=\"black\" stroke=\"black\" points=\"76.68,-116.18 68.53,-109.4 70.68,-119.78 76.68,-116.18\"/>\n",
       "</g>\n",
       "<!-- Purchase -->\n",
       "<g id=\"node3\" class=\"node\">\n",
       "<title>Purchase</title>\n",
       "<ellipse fill=\"none\" stroke=\"black\" cx=\"99.49\" cy=\"-18\" rx=\"44.19\" ry=\"18\"/>\n",
       "<text xml:space=\"preserve\" text-anchor=\"middle\" x=\"99.49\" y=\"-12.95\" font-family=\"Times New Roman,serif\" font-size=\"14.00\">Purchase</text>\n",
       "</g>\n",
       "<!-- EmailCampaign&#45;&gt;Purchase -->\n",
       "<g id=\"edge3\" class=\"edge\">\n",
       "<title>EmailCampaign&#45;&gt;Purchase</title>\n",
       "<path fill=\"none\" stroke=\"black\" d=\"M109.45,-143.98C114.77,-133.89 120.77,-120.64 123.49,-108 126.87,-92.36 126.87,-87.64 123.49,-72 121.62,-63.31 118.2,-54.33 114.51,-46.29\"/>\n",
       "<polygon fill=\"black\" stroke=\"black\" points=\"117.68,-44.8 110.12,-37.38 111.4,-47.9 117.68,-44.8\"/>\n",
       "</g>\n",
       "<!-- Engagement&#45;&gt;Purchase -->\n",
       "<g id=\"edge2\" class=\"edge\">\n",
       "<title>Engagement&#45;&gt;Purchase</title>\n",
       "<path fill=\"none\" stroke=\"black\" d=\"M67.66,-72.05C72.46,-64.06 78.29,-54.33 83.65,-45.4\"/>\n",
       "<polygon fill=\"black\" stroke=\"black\" points=\"86.5,-47.46 88.64,-37.09 80.49,-43.86 86.5,-47.46\"/>\n",
       "</g>\n",
       "</g>\n",
       "</svg>\n"
      ],
      "text/plain": [
       "<graphviz.graphs.Digraph at 0x16bd5cea380>"
      ]
     },
     "metadata": {},
     "output_type": "display_data"
    }
   ],
   "source": [
    "draw_dag(\n",
    "    edges=[\n",
    "        ('EmailCampaign', 'Engagement'),\n",
    "        ('Engagement', 'Purchase'),\n",
    "        ('EmailCampaign', 'Purchase')\n",
    "    ],\n",
    "    title='Example 3; Email Campaign → Engagement → Purchase (with direct effect'\n",
    ")\n"
   ]
  },
  {
   "cell_type": "code",
   "execution_count": 6,
   "id": "b1ed00e5",
   "metadata": {},
   "outputs": [],
   "source": [
    "n = 1000\n",
    "email = np.random.binomial(1, 0.5, n)\n",
    "engagement = 0.8 * email + np.random.normal(0, 1, n)\n",
    "purchase = 1.2 * engagement + 0.5 * email + np.random.normal(0, 1, n)\n",
    "\n",
    "data3= pd.DataFrame({\n",
    "    'email': email,\n",
    "    'engagement': engagement,\n",
    "    'purchase': purchase\n",
    "})"
   ]
  },
  {
   "cell_type": "code",
   "execution_count": 9,
   "id": "21835af3",
   "metadata": {},
   "outputs": [
    {
     "name": "stdout",
     "output_type": "stream",
     "text": [
      "Adjusted model:\n",
      "                            OLS Regression Results                            \n",
      "==============================================================================\n",
      "Dep. Variable:               purchase   R-squared:                       0.647\n",
      "Model:                            OLS   Adj. R-squared:                  0.646\n",
      "Method:                 Least Squares   F-statistic:                     912.0\n",
      "Date:                Tue, 01 Jul 2025   Prob (F-statistic):          6.71e-226\n",
      "Time:                        19:15:45   Log-Likelihood:                -1414.9\n",
      "No. Observations:                1000   AIC:                             2836.\n",
      "Df Residuals:                     997   BIC:                             2851.\n",
      "Df Model:                           2                                         \n",
      "Covariance Type:            nonrobust                                         \n",
      "==============================================================================\n",
      "                 coef    std err          t      P>|t|      [0.025      0.975]\n",
      "------------------------------------------------------------------------------\n",
      "Intercept      0.0238      0.046      0.517      0.605      -0.066       0.114\n",
      "email          0.4835      0.067      7.185      0.000       0.351       0.616\n",
      "engagement     1.1743      0.032     37.050      0.000       1.112       1.237\n",
      "==============================================================================\n",
      "Omnibus:                        3.400   Durbin-Watson:                   1.916\n",
      "Prob(Omnibus):                  0.183   Jarque-Bera (JB):                3.365\n",
      "Skew:                          -0.142   Prob(JB):                        0.186\n",
      "Kurtosis:                       3.003   Cond. No.                         3.38\n",
      "==============================================================================\n",
      "\n",
      "Notes:\n",
      "[1] Standard Errors assume that the covariance matrix of the errors is correctly specified.\n"
     ]
    }
   ],
   "source": [
    "\n",
    "## Adjusted regression\n",
    "model3 = smf.ols('purchase ~ email + engagement', data=data3).fit()\n",
    "print(\"Adjusted model:\")\n",
    "print(model3.summary())\n",
    "\n"
   ]
  },
  {
   "cell_type": "code",
   "execution_count": 11,
   "id": "c33e032a",
   "metadata": {},
   "outputs": [
    {
     "name": "stdout",
     "output_type": "stream",
     "text": [
      "Unadjusted model:\n",
      "                            OLS Regression Results                            \n",
      "==============================================================================\n",
      "Dep. Variable:               purchase   R-squared:                       0.160\n",
      "Model:                            OLS   Adj. R-squared:                  0.159\n",
      "Method:                 Least Squares   F-statistic:                     190.0\n",
      "Date:                Tue, 01 Jul 2025   Prob (F-statistic):           1.05e-39\n",
      "Time:                        19:49:07   Log-Likelihood:                -1847.8\n",
      "No. Observations:                1000   AIC:                             3700.\n",
      "Df Residuals:                     998   BIC:                             3709.\n",
      "Df Model:                           1                                         \n",
      "Covariance Type:            nonrobust                                         \n",
      "==============================================================================\n",
      "                 coef    std err          t      P>|t|      [0.025      0.975]\n",
      "------------------------------------------------------------------------------\n",
      "Intercept      0.1173      0.071      1.660      0.097      -0.021       0.256\n",
      "email          1.3421      0.097     13.786      0.000       1.151       1.533\n",
      "==============================================================================\n",
      "Omnibus:                        5.190   Durbin-Watson:                   1.987\n",
      "Prob(Omnibus):                  0.075   Jarque-Bera (JB):                5.246\n",
      "Skew:                          -0.176   Prob(JB):                       0.0726\n",
      "Kurtosis:                       2.950   Cond. No.                         2.69\n",
      "==============================================================================\n",
      "\n",
      "Notes:\n",
      "[1] Standard Errors assume that the covariance matrix of the errors is correctly specified.\n"
     ]
    }
   ],
   "source": [
    "\n",
    "## Non-adjusted regression \n",
    "model3 = smf.ols('purchase ~  email', data=data3).fit()\n",
    "print(\"Unadjusted model:\")\n",
    "print(model3.summary())\n",
    "\n"
   ]
  },
  {
   "cell_type": "markdown",
   "id": "92cf9787",
   "metadata": {},
   "source": []
  },
  {
   "cell_type": "markdown",
   "id": "2d71f9c6",
   "metadata": {},
   "source": [
    "Fourth example - mediator"
   ]
  },
  {
   "cell_type": "code",
   "execution_count": 52,
   "id": "6972f103",
   "metadata": {},
   "outputs": [
    {
     "data": {
      "image/svg+xml": [
       "<?xml version=\"1.0\" encoding=\"UTF-8\" standalone=\"no\"?>\n",
       "<!DOCTYPE svg PUBLIC \"-//W3C//DTD SVG 1.1//EN\"\n",
       " \"http://www.w3.org/Graphics/SVG/1.1/DTD/svg11.dtd\">\n",
       "<!-- Generated by graphviz version 13.0.1 (0)\n",
       " -->\n",
       "<!-- Pages: 1 -->\n",
       "<svg width=\"194pt\" height=\"116pt\"\n",
       " viewBox=\"0.00 0.00 194.00 116.00\" xmlns=\"http://www.w3.org/2000/svg\" xmlns:xlink=\"http://www.w3.org/1999/xlink\">\n",
       "<g id=\"graph0\" class=\"graph\" transform=\"scale(1 1) rotate(0) translate(4 112)\">\n",
       "<polygon fill=\"white\" stroke=\"none\" points=\"-4,4 -4,-112 189.77,-112 189.77,4 -4,4\"/>\n",
       "<!-- Compliance -->\n",
       "<g id=\"node1\" class=\"node\">\n",
       "<title>Compliance</title>\n",
       "<ellipse fill=\"none\" stroke=\"black\" cx=\"55.96\" cy=\"-90\" rx=\"55.96\" ry=\"18\"/>\n",
       "<text xml:space=\"preserve\" text-anchor=\"middle\" x=\"55.96\" y=\"-84.95\" font-family=\"Times New Roman,serif\" font-size=\"14.00\">Compliance</text>\n",
       "</g>\n",
       "<!-- DoctorVisit -->\n",
       "<g id=\"node2\" class=\"node\">\n",
       "<title>DoctorVisit</title>\n",
       "<ellipse fill=\"none\" stroke=\"black\" cx=\"106.96\" cy=\"-18\" rx=\"53.91\" ry=\"18\"/>\n",
       "<text xml:space=\"preserve\" text-anchor=\"middle\" x=\"106.96\" y=\"-12.95\" font-family=\"Times New Roman,serif\" font-size=\"14.00\">DoctorVisit</text>\n",
       "</g>\n",
       "<!-- Compliance&#45;&gt;DoctorVisit -->\n",
       "<g id=\"edge1\" class=\"edge\">\n",
       "<title>Compliance&#45;&gt;DoctorVisit</title>\n",
       "<path fill=\"none\" stroke=\"black\" d=\"M68.3,-72.05C74.25,-63.89 81.52,-53.91 88.14,-44.82\"/>\n",
       "<polygon fill=\"black\" stroke=\"black\" points=\"90.77,-47.16 93.83,-37.01 85.12,-43.03 90.77,-47.16\"/>\n",
       "</g>\n",
       "<!-- Risk -->\n",
       "<g id=\"node3\" class=\"node\">\n",
       "<title>Risk</title>\n",
       "<ellipse fill=\"none\" stroke=\"black\" cx=\"157.96\" cy=\"-90\" rx=\"27.81\" ry=\"18\"/>\n",
       "<text xml:space=\"preserve\" text-anchor=\"middle\" x=\"157.96\" y=\"-84.95\" font-family=\"Times New Roman,serif\" font-size=\"14.00\">Risk</text>\n",
       "</g>\n",
       "<!-- Risk&#45;&gt;DoctorVisit -->\n",
       "<g id=\"edge2\" class=\"edge\">\n",
       "<title>Risk&#45;&gt;DoctorVisit</title>\n",
       "<path fill=\"none\" stroke=\"black\" d=\"M146.64,-73.46C140.56,-65.13 132.92,-54.63 125.96,-45.08\"/>\n",
       "<polygon fill=\"black\" stroke=\"black\" points=\"128.92,-43.21 120.21,-37.19 123.27,-47.33 128.92,-43.21\"/>\n",
       "</g>\n",
       "</g>\n",
       "</svg>\n"
      ],
      "text/plain": [
       "<graphviz.graphs.Digraph at 0x16bd6798d60>"
      ]
     },
     "metadata": {},
     "output_type": "display_data"
    }
   ],
   "source": [
    "draw_dag(\n",
    "    edges=[\n",
    "        ('Compliance', 'DoctorVisit'),\n",
    "        ('Risk', 'DoctorVisit')\n",
    "    ],\n",
    "    title='Compliance → DoctorVisit ← Risk'\n",
    ")\n"
   ]
  },
  {
   "cell_type": "code",
   "execution_count": 48,
   "id": "2215cc1a",
   "metadata": {},
   "outputs": [],
   "source": [
    "n = 1000\n",
    "\n",
    "compliance = np.random.binomial(1, 0.5, n)\n",
    "\n",
    "risk = np.random.normal(0, 1, n)\n",
    "\n",
    "doctor_visit = 0.8 * compliance + 0.8 * risk + np.random.normal(0, 1, n)\n",
    "\n",
    "data4= pd.DataFrame({\n",
    "    \"compliance\": compliance,\n",
    "    \"risk\": risk,\n",
    "    \"doctor_visit\": doctor_visit\n",
    "})"
   ]
  },
  {
   "cell_type": "code",
   "execution_count": null,
   "id": "95af72f6",
   "metadata": {},
   "outputs": [
    {
     "name": "stdout",
     "output_type": "stream",
     "text": [
      "                            OLS Regression Results                            \n",
      "==============================================================================\n",
      "Dep. Variable:                   risk   R-squared:                       0.397\n",
      "Model:                            OLS   Adj. R-squared:                  0.396\n",
      "Method:                 Least Squares   F-statistic:                     328.1\n",
      "Date:                Thu, 26 Jun 2025   Prob (F-statistic):          3.18e-110\n",
      "Time:                        20:02:56   Log-Likelihood:                -1167.3\n",
      "No. Observations:                1000   AIC:                             2341.\n",
      "Df Residuals:                     997   BIC:                             2355.\n",
      "Df Model:                           2                                         \n",
      "Covariance Type:            nonrobust                                         \n",
      "================================================================================\n",
      "                   coef    std err          t      P>|t|      [0.025      0.975]\n",
      "--------------------------------------------------------------------------------\n",
      "Intercept       -0.0003      0.035     -0.007      0.994      -0.069       0.069\n",
      "compliance      -0.4159      0.052     -8.055      0.000      -0.517      -0.315\n",
      "doctor_visit     0.4941      0.019     25.615      0.000       0.456       0.532\n",
      "==============================================================================\n",
      "Omnibus:                        2.484   Durbin-Watson:                   2.166\n",
      "Prob(Omnibus):                  0.289   Jarque-Bera (JB):                2.260\n",
      "Skew:                           0.039   Prob(JB):                        0.323\n",
      "Kurtosis:                       2.780   Cond. No.                         3.66\n",
      "==============================================================================\n",
      "\n",
      "Notes:\n",
      "[1] Standard Errors assume that the covariance matrix of the errors is correctly specified.\n"
     ]
    }
   ],
   "source": [
    "\n",
    "## Incorrect model (adjusts for collider):\n",
    "\n",
    "naive_model4 = smf.ols('risk ~ compliance + doctor_visit', data=data4).fit()\n",
    "print(naive_model4.summary())"
   ]
  },
  {
   "cell_type": "code",
   "execution_count": null,
   "id": "06a31114",
   "metadata": {},
   "outputs": [
    {
     "name": "stdout",
     "output_type": "stream",
     "text": [
      "                            OLS Regression Results                            \n",
      "==============================================================================\n",
      "Dep. Variable:                   risk   R-squared:                       0.000\n",
      "Model:                            OLS   Adj. R-squared:                 -0.001\n",
      "Method:                 Least Squares   F-statistic:                   0.09296\n",
      "Date:                Thu, 26 Jun 2025   Prob (F-statistic):              0.761\n",
      "Time:                        20:03:43   Log-Likelihood:                -1420.1\n",
      "No. Observations:                1000   AIC:                             2844.\n",
      "Df Residuals:                     998   BIC:                             2854.\n",
      "Df Model:                           1                                         \n",
      "Covariance Type:            nonrobust                                         \n",
      "==============================================================================\n",
      "                 coef    std err          t      P>|t|      [0.025      0.975]\n",
      "------------------------------------------------------------------------------\n",
      "Intercept      0.0339      0.045      0.750      0.454      -0.055       0.123\n",
      "compliance    -0.0193      0.063     -0.305      0.761      -0.144       0.105\n",
      "==============================================================================\n",
      "Omnibus:                        0.073   Durbin-Watson:                   2.159\n",
      "Prob(Omnibus):                  0.964   Jarque-Bera (JB):                0.054\n",
      "Skew:                           0.018   Prob(JB):                        0.973\n",
      "Kurtosis:                       3.003   Cond. No.                         2.64\n",
      "==============================================================================\n",
      "\n",
      "Notes:\n",
      "[1] Standard Errors assume that the covariance matrix of the errors is correctly specified.\n"
     ]
    }
   ],
   "source": [
    "\n",
    "## Correct model (does not adjust for collider and there's close to no association between compliance and risk):\n",
    "\n",
    "model4 = smf.ols('risk ~ compliance', data=data4).fit()\n",
    "print(model4.summary())"
   ]
  },
  {
   "cell_type": "markdown",
   "id": "933a7f5a",
   "metadata": {},
   "source": []
  }
 ],
 "metadata": {
  "kernelspec": {
   "display_name": "backdoor-crit",
   "language": "python",
   "name": "python3"
  },
  "language_info": {
   "codemirror_mode": {
    "name": "ipython",
    "version": 3
   },
   "file_extension": ".py",
   "mimetype": "text/x-python",
   "name": "python",
   "nbconvert_exporter": "python",
   "pygments_lexer": "ipython3",
   "version": "3.10.18"
  }
 },
 "nbformat": 4,
 "nbformat_minor": 5
}
